{
 "cells": [
  {
   "cell_type": "code",
   "execution_count": 70,
   "id": "3d81a45b",
   "metadata": {},
   "outputs": [],
   "source": [
    "import numpy as np\n",
    "import matplotlib.pyplot as plt\n",
    "import torch\n",
    "import torch.nn as nn\n",
    "import torch.nn.functional as F\n",
    "from torchvision import transforms, datasets"
   ]
  },
  {
   "cell_type": "code",
   "execution_count": 71,
   "id": "93f0fed6",
   "metadata": {},
   "outputs": [],
   "source": [
    "if torch.cuda.is_available():\n",
    "  DEVICE = torch.devidce('cuda')\n",
    "else:\n",
    "  DEVICE = torch.device('cpu')"
   ]
  },
  {
   "cell_type": "code",
   "execution_count": 72,
   "id": "561d7289",
   "metadata": {},
   "outputs": [],
   "source": [
    "BATCH_SIZE = 32\n",
    "EPOCHS = 10"
   ]
  },
  {
   "cell_type": "code",
   "execution_count": 73,
   "id": "a40e7296",
   "metadata": {},
   "outputs": [],
   "source": [
    "train_dataset = datasets.MNIST(root = \"../data/MNIST\",\n",
    "                               train = True, \n",
    "                               download = True, \n",
    "                               transform = transforms.ToTensor())\n",
    "test_dataset = datasets.MNIST(root = \"../data/MNIST\",\n",
    "                               train = False,\n",
    "                               transform = transforms.ToTensor())\n",
    "train_loader = torch.utils.data.DataLoader(dataset = train_dataset,\n",
    "                                          batch_size = BATCH_SIZE,\n",
    "                                          shuffle = True)\n",
    "test_loader = torch.utils.data.DataLoader(dataset = test_dataset,\n",
    "                                         batch_size = BATCH_SIZE,\n",
    "                                         shuffle = False)"
   ]
  },
  {
   "cell_type": "code",
   "execution_count": 74,
   "id": "c4674497",
   "metadata": {},
   "outputs": [
    {
     "name": "stdout",
     "output_type": "stream",
     "text": [
      "X_train: torch.Size([32, 1, 28, 28]) type: torch.FloatTensor\n",
      "y_train: torch.Size([32]) type: torch.LongTensor\n"
     ]
    }
   ],
   "source": [
    "for (X_train, y_train) in train_loader :\n",
    "    print('X_train:',X_train.size(),'type:', X_train.type()) #class=1 흑백\n",
    "    print('y_train:',y_train.size(),'type:', y_train.type())\n",
    "    break"
   ]
  },
  {
   "cell_type": "code",
   "execution_count": 75,
   "id": "7117a2d6",
   "metadata": {},
   "outputs": [
    {
     "data": {
      "image/png": "[encoded data removed]",
      "text/plain": [
       "<Figure size 720x72 with 10 Axes>"
      ]
     },
     "metadata": {
      "needs_background": "light"
     },
     "output_type": "display_data"
    }
   ],
   "source": [
    "pltsize=1\n",
    "plt.figure(figsize=(10*pltsize, pltsize))\n",
    "for i in range(10):\n",
    "    plt.subplot(1, 10, i+1)\n",
    "    plt.axis('off')\n",
    "    plt.imshow(X_train[i, :,:,:].numpy().reshape(28,28),cmap='gray_r')\n",
    "    plt.title('Class:'+ str(y_train[i].item()))"
   ]
  },
  {
   "cell_type": "code",
   "execution_count": 76,
   "id": "f5c56acc",
   "metadata": {},
   "outputs": [],
   "source": [
    "class Net(nn.Module):\n",
    "    def __init__(self):\n",
    "        super(Net, self).__init__()\n",
    "        self.fc1 = nn.Linear(28*28, 512) #FC Layer 1\n",
    "        self.fc2 = nn.Linear(512,256)    #FC Layer 2\n",
    "        self.fc3 = nn.Linear(256, 10)    #FC Layer 3\n",
    "    def forward(self, x):\n",
    "        x = x.view(-1, 28*28)            #flatten 2차원의 이미지데이터를 1차원으로\n",
    "        x = self.fc1(x)                  #첫번째 층 통과\n",
    "        x = F.sigmoid(x)                 #활성화함수\n",
    "        x = self.fc2(x)                     #두번째 층 통과\n",
    "        x = F.sigmoid(x)                 #활성화함수\n",
    "        x = self.fc3(x)                     #세번째 층 통과\n",
    "        x = F.log_softmax(x, dim=1)       #분류 whylog? backpropagation 쉽게하기위해서\n",
    "        return x"
   ]
  },
  {
   "cell_type": "code",
   "execution_count": 77,
   "id": "2376adc4",
   "metadata": {},
   "outputs": [
    {
     "name": "stdout",
     "output_type": "stream",
     "text": [
      "Net(\n",
      "  (fc1): Linear(in_features=784, out_features=512, bias=True)\n",
      "  (fc2): Linear(in_features=512, out_features=256, bias=True)\n",
      "  (fc3): Linear(in_features=256, out_features=10, bias=True)\n",
      ")\n"
     ]
    }
   ],
   "source": [
    "model = Net().to(DEVICE)\n",
    "optimizer = torch.optim.SGD(model.parameters(),lr=0.01, momentum = 0.5)\n",
    "criterion = nn.CrossEntropyLoss() #output과 원-핫 인코딩 값과의 loss를 crossentropy로 계산하기 위함.\n",
    "\n",
    "print(model)"
   ]
  },
  {
   "cell_type": "code",
   "execution_count": 78,
   "id": "ed39618f",
   "metadata": {},
   "outputs": [],
   "source": [
    "def train(model, train_loader, optimizer, log_interval):\n",
    "    model.train()\n",
    "    for batch_idx, (image,label) in enumerate(train_loader):\n",
    "        image = image.to(DEVICE)\n",
    "        label = label.to(DEVICE)\n",
    "        optimizer.zero_grad()\n",
    "        output = model(image)\n",
    "        loss = criterion(output, label)\n",
    "        loss.backward() #gradients 저장\n",
    "        optimizer.step() #update\n",
    "        \n",
    "        if batch_idx % log_interval == 0 :\n",
    "            print(\"Train Epoch: {} [{}/{}({:.0f}%)]|tTrain Loss: {:.6f}\".format(Epoch, batch_idx*len(image),\n",
    "                 len(train_loader.dataset), 100. * batch_idx / len(train_loader), loss.item()))"
   ]
  },
  {
   "cell_type": "code",
   "execution_count": 79,
   "id": "7abac30f",
   "metadata": {},
   "outputs": [],
   "source": [
    "def evaluate(model, test_loader):\n",
    "    model.eval() #평가상태\n",
    "    test_loss = 0 \n",
    "    correct = 0 \n",
    "    \n",
    "    with torch.no_grad(): #평가하는 단계에서 gradients 학습방지(흐름억제)\n",
    "        for image, label in test_loader:\n",
    "            image = image.to(DEVICE)\n",
    "            label = label.to(DEVICE)\n",
    "            output = model(image)\n",
    "            test_loss += criterion(output, label).item()\n",
    "            prediction = output.max(1, keepdim = True)[1]  #크기 10인 벡터 그 안에서 가장 큰 확률값을 고름\n",
    "            correct += prediction.eq(label.view_as(prediction)).sum().item()\n",
    "    \n",
    "    test_loss /= len(test_loader.dataset)  #minibatch개수만큼 나눠서 평균 loss 값으로 계산\n",
    "    test_accuracy = 100. * correct / len(test_loader.dataset)\n",
    "    return test_loss, test_accuracy         "
   ]
  },
  {
   "cell_type": "code",
   "execution_count": 80,
   "id": "b4f1d4bf",
   "metadata": {},
   "outputs": [
    {
     "name": "stdout",
     "output_type": "stream",
     "text": [
      "Train Epoch: 1 [0/60000(0%)]|tTrain Loss: 2.345613\n",
      "Train Epoch: 1 [6400/60000(11%)]|tTrain Loss: 2.325133\n",
      "Train Epoch: 1 [12800/60000(21%)]|tTrain Loss: 2.267796\n",
      "Train Epoch: 1 [19200/60000(32%)]|tTrain Loss: 2.287272\n",
      "Train Epoch: 1 [25600/60000(43%)]|tTrain Loss: 2.244538\n",
      "Train Epoch: 1 [32000/60000(53%)]|tTrain Loss: 2.278691\n",
      "Train Epoch: 1 [38400/60000(64%)]|tTrain Loss: 2.287987\n",
      "Train Epoch: 1 [44800/60000(75%)]|tTrain Loss: 2.248889\n",
      "Train Epoch: 1 [51200/60000(85%)]|tTrain Loss: 2.289541\n",
      "Train Epoch: 1 [57600/60000(96%)]|tTrain Loss: 2.183481\n",
      "/n[Epoch:1], |tTest Loss:0.0696, |tTest Accuracy: 33.22 %|n\n",
      "Train Epoch: 2 [0/60000(0%)]|tTrain Loss: 2.235180\n",
      "Train Epoch: 2 [6400/60000(11%)]|tTrain Loss: 2.196136\n",
      "Train Epoch: 2 [12800/60000(21%)]|tTrain Loss: 2.163996\n",
      "Train Epoch: 2 [19200/60000(32%)]|tTrain Loss: 2.129355\n",
      "Train Epoch: 2 [25600/60000(43%)]|tTrain Loss: 1.940958\n",
      "Train Epoch: 2 [32000/60000(53%)]|tTrain Loss: 1.812131\n",
      "Train Epoch: 2 [38400/60000(64%)]|tTrain Loss: 1.702019\n",
      "Train Epoch: 2 [44800/60000(75%)]|tTrain Loss: 1.679490\n",
      "Train Epoch: 2 [51200/60000(85%)]|tTrain Loss: 1.286665\n",
      "Train Epoch: 2 [57600/60000(96%)]|tTrain Loss: 1.356873\n",
      "/n[Epoch:2], |tTest Loss:0.0401, |tTest Accuracy: 60.51 %|n\n",
      "Train Epoch: 3 [0/60000(0%)]|tTrain Loss: 1.406690\n",
      "Train Epoch: 3 [6400/60000(11%)]|tTrain Loss: 1.349552\n",
      "Train Epoch: 3 [12800/60000(21%)]|tTrain Loss: 1.104693\n",
      "Train Epoch: 3 [19200/60000(32%)]|tTrain Loss: 1.466719\n",
      "Train Epoch: 3 [25600/60000(43%)]|tTrain Loss: 1.089870\n",
      "Train Epoch: 3 [32000/60000(53%)]|tTrain Loss: 0.634807\n",
      "Train Epoch: 3 [38400/60000(64%)]|tTrain Loss: 0.821492\n",
      "Train Epoch: 3 [44800/60000(75%)]|tTrain Loss: 1.009648\n",
      "Train Epoch: 3 [51200/60000(85%)]|tTrain Loss: 0.853920\n",
      "Train Epoch: 3 [57600/60000(96%)]|tTrain Loss: 0.771581\n",
      "/n[Epoch:3], |tTest Loss:0.0233, |tTest Accuracy: 78.54 %|n\n",
      "Train Epoch: 4 [0/60000(0%)]|tTrain Loss: 0.878226\n",
      "Train Epoch: 4 [6400/60000(11%)]|tTrain Loss: 0.999266\n",
      "Train Epoch: 4 [12800/60000(21%)]|tTrain Loss: 1.006913\n",
      "Train Epoch: 4 [19200/60000(32%)]|tTrain Loss: 0.582562\n",
      "Train Epoch: 4 [25600/60000(43%)]|tTrain Loss: 0.657400\n",
      "Train Epoch: 4 [32000/60000(53%)]|tTrain Loss: 0.687874\n",
      "Train Epoch: 4 [38400/60000(64%)]|tTrain Loss: 0.537061\n",
      "Train Epoch: 4 [44800/60000(75%)]|tTrain Loss: 0.586779\n",
      "Train Epoch: 4 [51200/60000(85%)]|tTrain Loss: 0.691997\n",
      "Train Epoch: 4 [57600/60000(96%)]|tTrain Loss: 1.133179\n",
      "/n[Epoch:4], |tTest Loss:0.0172, |tTest Accuracy: 83.64 %|n\n",
      "Train Epoch: 5 [0/60000(0%)]|tTrain Loss: 0.445397\n",
      "Train Epoch: 5 [6400/60000(11%)]|tTrain Loss: 0.658801\n",
      "Train Epoch: 5 [12800/60000(21%)]|tTrain Loss: 0.578196\n",
      "Train Epoch: 5 [19200/60000(32%)]|tTrain Loss: 0.768153\n",
      "Train Epoch: 5 [25600/60000(43%)]|tTrain Loss: 0.425877\n",
      "Train Epoch: 5 [32000/60000(53%)]|tTrain Loss: 0.762855\n",
      "Train Epoch: 5 [38400/60000(64%)]|tTrain Loss: 0.446334\n",
      "Train Epoch: 5 [44800/60000(75%)]|tTrain Loss: 0.519904\n",
      "Train Epoch: 5 [51200/60000(85%)]|tTrain Loss: 0.263325\n",
      "Train Epoch: 5 [57600/60000(96%)]|tTrain Loss: 0.381993\n",
      "/n[Epoch:5], |tTest Loss:0.0145, |tTest Accuracy: 86.35 %|n\n",
      "Train Epoch: 6 [0/60000(0%)]|tTrain Loss: 0.408498\n",
      "Train Epoch: 6 [6400/60000(11%)]|tTrain Loss: 0.440506\n",
      "Train Epoch: 6 [12800/60000(21%)]|tTrain Loss: 0.361302\n",
      "Train Epoch: 6 [19200/60000(32%)]|tTrain Loss: 0.462989\n",
      "Train Epoch: 6 [25600/60000(43%)]|tTrain Loss: 0.519491\n",
      "Train Epoch: 6 [32000/60000(53%)]|tTrain Loss: 0.555350\n",
      "Train Epoch: 6 [38400/60000(64%)]|tTrain Loss: 0.557693\n",
      "Train Epoch: 6 [44800/60000(75%)]|tTrain Loss: 0.544201\n",
      "Train Epoch: 6 [51200/60000(85%)]|tTrain Loss: 0.465170\n",
      "Train Epoch: 6 [57600/60000(96%)]|tTrain Loss: 0.346329\n",
      "/n[Epoch:6], |tTest Loss:0.0132, |tTest Accuracy: 87.56 %|n\n",
      "Train Epoch: 7 [0/60000(0%)]|tTrain Loss: 0.186725\n",
      "Train Epoch: 7 [6400/60000(11%)]|tTrain Loss: 0.199752\n",
      "Train Epoch: 7 [12800/60000(21%)]|tTrain Loss: 0.237071\n",
      "Train Epoch: 7 [19200/60000(32%)]|tTrain Loss: 0.456547\n",
      "Train Epoch: 7 [25600/60000(43%)]|tTrain Loss: 0.488432\n",
      "Train Epoch: 7 [32000/60000(53%)]|tTrain Loss: 0.452731\n",
      "Train Epoch: 7 [38400/60000(64%)]|tTrain Loss: 0.559619\n",
      "Train Epoch: 7 [44800/60000(75%)]|tTrain Loss: 0.328320\n",
      "Train Epoch: 7 [51200/60000(85%)]|tTrain Loss: 0.507527\n",
      "Train Epoch: 7 [57600/60000(96%)]|tTrain Loss: 0.309974\n",
      "/n[Epoch:7], |tTest Loss:0.0125, |tTest Accuracy: 87.92 %|n\n",
      "Train Epoch: 8 [0/60000(0%)]|tTrain Loss: 0.332046\n",
      "Train Epoch: 8 [6400/60000(11%)]|tTrain Loss: 0.270513\n",
      "Train Epoch: 8 [12800/60000(21%)]|tTrain Loss: 0.110011\n",
      "Train Epoch: 8 [19200/60000(32%)]|tTrain Loss: 0.333205\n",
      "Train Epoch: 8 [25600/60000(43%)]|tTrain Loss: 0.485017\n",
      "Train Epoch: 8 [32000/60000(53%)]|tTrain Loss: 0.394553\n",
      "Train Epoch: 8 [38400/60000(64%)]|tTrain Loss: 0.436064\n",
      "Train Epoch: 8 [44800/60000(75%)]|tTrain Loss: 0.377084\n",
      "Train Epoch: 8 [51200/60000(85%)]|tTrain Loss: 0.210029\n",
      "Train Epoch: 8 [57600/60000(96%)]|tTrain Loss: 0.171678\n",
      "/n[Epoch:8], |tTest Loss:0.0116, |tTest Accuracy: 89.26 %|n\n",
      "Train Epoch: 9 [0/60000(0%)]|tTrain Loss: 0.522948\n",
      "Train Epoch: 9 [6400/60000(11%)]|tTrain Loss: 0.517773\n",
      "Train Epoch: 9 [12800/60000(21%)]|tTrain Loss: 0.246302\n",
      "Train Epoch: 9 [19200/60000(32%)]|tTrain Loss: 0.120169\n",
      "Train Epoch: 9 [25600/60000(43%)]|tTrain Loss: 0.271886\n",
      "Train Epoch: 9 [32000/60000(53%)]|tTrain Loss: 0.283316\n",
      "Train Epoch: 9 [38400/60000(64%)]|tTrain Loss: 0.438875\n",
      "Train Epoch: 9 [44800/60000(75%)]|tTrain Loss: 0.399286\n",
      "Train Epoch: 9 [51200/60000(85%)]|tTrain Loss: 0.617824\n",
      "Train Epoch: 9 [57600/60000(96%)]|tTrain Loss: 0.259848\n",
      "/n[Epoch:9], |tTest Loss:0.0109, |tTest Accuracy: 89.80 %|n\n",
      "Train Epoch: 10 [0/60000(0%)]|tTrain Loss: 0.386013\n",
      "Train Epoch: 10 [6400/60000(11%)]|tTrain Loss: 0.192042\n",
      "Train Epoch: 10 [12800/60000(21%)]|tTrain Loss: 0.156561\n",
      "Train Epoch: 10 [19200/60000(32%)]|tTrain Loss: 0.385254\n",
      "Train Epoch: 10 [25600/60000(43%)]|tTrain Loss: 0.569523\n",
      "Train Epoch: 10 [32000/60000(53%)]|tTrain Loss: 0.361557\n",
      "Train Epoch: 10 [38400/60000(64%)]|tTrain Loss: 0.229533\n",
      "Train Epoch: 10 [44800/60000(75%)]|tTrain Loss: 0.325062\n",
      "Train Epoch: 10 [51200/60000(85%)]|tTrain Loss: 0.571452\n",
      "Train Epoch: 10 [57600/60000(96%)]|tTrain Loss: 0.275110\n",
      "/n[Epoch:10], |tTest Loss:0.0106, |tTest Accuracy: 90.23 %|n\n"
     ]
    }
   ],
   "source": [
    "for Epoch in range(1, EPOCHS + 1 ):\n",
    "    train(model, train_loader, optimizer, log_interval = 200)\n",
    "    test_loss, test_accuracy = evaluate(model, test_loader)\n",
    "    print(\"/n[Epoch:{}], |tTest Loss:{:.4f}, |tTest Accuracy: {:.2f} %|n\".format(Epoch, test_loss, test_accuracy))"
   ]
  },
  {
   "cell_type": "code",
   "execution_count": null,
   "id": "f80ff2a5",
   "metadata": {},
   "outputs": [],
   "source": []
  },
  {
   "cell_type": "code",
   "execution_count": null,
   "id": "33c92deb",
   "metadata": {},
   "outputs": [],
   "source": []
  },
  {
   "cell_type": "code",
   "execution_count": null,
   "id": "042496cf",
   "metadata": {},
   "outputs": [],
   "source": []
  },
  {
   "cell_type": "code",
   "execution_count": null,
   "id": "36d7fec2",
   "metadata": {},
   "outputs": [],
   "source": []
  }
 ],
 "metadata": {
  "kernelspec": {
   "display_name": "Python 3",
   "language": "python",
   "name": "python3"
  },
  "language_info": {
   "codemirror_mode": {
    "name": "ipython",
    "version": 3
   },
   "file_extension": ".py",
   "mimetype": "text/x-python",
   "name": "python",
   "nbconvert_exporter": "python",
   "pygments_lexer": "ipython3",
   "version": "3.8.8"
  }
 },
 "nbformat": 4,
 "nbformat_minor": 5
}
